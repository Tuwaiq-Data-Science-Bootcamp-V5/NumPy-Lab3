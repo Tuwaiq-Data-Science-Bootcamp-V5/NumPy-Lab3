{
 "cells": [
  {
   "cell_type": "markdown",
   "id": "afb4e7a0-e453-4a86-9163-2b5242f7cea0",
   "metadata": {},
   "source": [
    "# Real world Scenario with Numpy"
   ]
  },
  {
   "cell_type": "markdown",
   "id": "b7fc781e-8242-4c4f-a4cf-c9646b6b98d4",
   "metadata": {},
   "source": [
    "<hr>\n",
    "\n",
    "<img src=\"https://i.imgur.com/mRN9H4v.png\"/>"
   ]
  },
  {
   "cell_type": "code",
   "execution_count": 6,
   "id": "93c0c316-d198-4cdc-b366-1cfcdc48a6b8",
   "metadata": {},
   "outputs": [],
   "source": [
    "import numpy as np"
   ]
  },
  {
   "cell_type": "code",
   "execution_count": 7,
   "id": "da6b2527-511c-4e40-82c7-c56428b67929",
   "metadata": {},
   "outputs": [],
   "source": [
    "names = np.array((\"Khaled\", \"Sarah\", \"Mohammed\", \"Reem\",\"Fahad\", \"Saleh\", \"Nora\"))\n",
    "ages = np.array((17, 60, 21, 55, 29, 24, 19))"
   ]
  },
  {
   "cell_type": "code",
   "execution_count": 11,
   "id": "bf5f8525-0a6c-4d59-88be-8e89067281f6",
   "metadata": {},
   "outputs": [
    {
     "name": "stdout",
     "output_type": "stream",
     "text": [
      "1. Sarah\n",
      "2. Reem\n",
      "3. Fahad\n",
      "4. Saleh\n",
      "5. Mohammed\n",
      "6. Nora\n",
      "7. Khaled\n"
     ]
    }
   ],
   "source": [
    "sorted_ages = np.argsort(ages)[::-1]\n",
    "sorted_names = names[sorted_ages]\n",
    "for i in range(len(sorted_names)):\n",
    "    print(f'{i+1}. {sorted_names[i]}')"
   ]
  },
  {
   "attachments": {},
   "cell_type": "markdown",
   "id": "af47d8d6-075c-43fa-b27f-e804f834d475",
   "metadata": {},
   "source": [
    "<hr>\n",
    "\n",
    "<img src=\"https://i.imgur.com/jbHKBPR.png![image.png](attachment:49d72e8d-c091-43ab-8ecd-db9a79858664.png)![image.png](attachment:ae9cf8e0-d2c1-4396-8bfc-0d7016cff2ad.png)![image.png](attachment:8f96c12e-5e2a-432b-b706-429bbafdeccc.png)![image.png](attachment:bd54d228-298e-4fdd-8464-49002837e5e5.png)\"/>"
   ]
  },
  {
   "cell_type": "code",
   "execution_count": 14,
   "id": "ab02fa69-e4ec-4025-8fcb-7a59db6c622c",
   "metadata": {},
   "outputs": [],
   "source": [
    "import calendar"
   ]
  },
  {
   "cell_type": "code",
   "execution_count": 15,
   "id": "bd565605-22a1-497f-9925-773a9b7c7140",
   "metadata": {},
   "outputs": [],
   "source": [
    "month_names = list(calendar.month_name)[1:]\n",
    "temperature_data = np.array([40, 38, 28, 20, 15, 28, 35, 40, 48, 45, 40, 43])\n",
    "threshold = 35"
   ]
  },
  {
   "cell_type": "code",
   "execution_count": null,
   "id": "fc2062d3-4cd4-4797-a472-15422b444b47",
   "metadata": {},
   "outputs": [],
   "source": []
  },
  {
   "cell_type": "markdown",
   "id": "33f65a00-76f4-4ffc-8e28-1f2c8c094a86",
   "metadata": {},
   "source": [
    "<hr>\n",
    "\n",
    "<img src=\"https://i.imgur.com/eiXHG9y.png\"/>"
   ]
  },
  {
   "cell_type": "code",
   "execution_count": 14,
   "id": "a642594f-b33d-4b5d-a2d4-44b13f6f45d0",
   "metadata": {},
   "outputs": [],
   "source": [
    "students = np.array(['Mohammed', 'Lama', 'Norah', 'Ahmed', 'Fahad'])\n",
    "math_scores = np.array([80, 92, 75, 68, 88])\n",
    "ML_scores = np.array([85, 78, 92, 64, 90])\n",
    "DS_scores = np.array([70, 88, 75, 82, 78])"
   ]
  },
  {
   "cell_type": "code",
   "execution_count": 13,
   "id": "5a6cb79c-3359-4505-8a26-59c4dab1977f",
   "metadata": {},
   "outputs": [],
   "source": [
    "# write your code here ^_^"
   ]
  },
  {
   "cell_type": "markdown",
   "id": "bbaf40e9-20a6-425a-aa35-548e6e8ab55e",
   "metadata": {},
   "source": [
    "<hr>\n",
    "\n",
    "### <center> Great job! Keep exploring and learning. Your progress is remarkable. \n",
    "\n",
    "<hr>"
   ]
  },
  {
   "cell_type": "markdown",
   "id": "b1499ad9-75eb-4158-9b03-b2af8eebd772",
   "metadata": {},
   "source": [
    "<hr>"
   ]
  }
 ],
 "metadata": {
  "kernelspec": {
   "display_name": "Python 3 (ipykernel)",
   "language": "python",
   "name": "python3"
  },
  "language_info": {
   "codemirror_mode": {
    "name": "ipython",
    "version": 3
   },
   "file_extension": ".py",
   "mimetype": "text/x-python",
   "name": "python",
   "nbconvert_exporter": "python",
   "pygments_lexer": "ipython3",
   "version": "3.11.5"
  }
 },
 "nbformat": 4,
 "nbformat_minor": 5
}
