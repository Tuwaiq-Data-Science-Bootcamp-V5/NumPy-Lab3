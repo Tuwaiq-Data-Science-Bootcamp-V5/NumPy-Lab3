{
 "cells": [
  {
   "cell_type": "markdown",
   "id": "afb4e7a0-e453-4a86-9163-2b5242f7cea0",
   "metadata": {},
   "source": [
    "# Real world Scenario with Numpy"
   ]
  },
  {
   "cell_type": "markdown",
   "id": "b7fc781e-8242-4c4f-a4cf-c9646b6b98d4",
   "metadata": {},
   "source": [
    "<hr>\n",
    "\n",
    "<img src=\"https://i.imgur.com/mRN9H4v.png\"/>"
   ]
  },
  {
   "cell_type": "code",
   "execution_count": 1,
   "id": "93c0c316-d198-4cdc-b366-1cfcdc48a6b8",
   "metadata": {},
   "outputs": [],
   "source": [
    "import numpy as np"
   ]
  },
  {
   "cell_type": "code",
   "execution_count": 2,
   "id": "da6b2527-511c-4e40-82c7-c56428b67929",
   "metadata": {},
   "outputs": [],
   "source": [
    "names = np.array((\"Khaled\", \"Hamad\", \"Mohammed\", \"Reem\",\"Fahad\", \"Saleh\", \"Nora\"))\n",
    "ages = np.array((17, 60, 21, 55, 29, 24, 19))"
   ]
  },
  {
   "cell_type": "code",
   "execution_count": 3,
   "id": "bf5f8525-0a6c-4d59-88be-8e89067281f6",
   "metadata": {},
   "outputs": [
    {
     "name": "stdout",
     "output_type": "stream",
     "text": [
      "[60 55 29 24 21 19 17] ['Hamad' 'Reem' 'Fahad' 'Saleh' 'Mohammed' 'Nora' 'Khaled']\n"
     ]
    }
   ],
   "source": [
    "x = (-ages).argsort()\n",
    "names = names[x]\n",
    "y = np.sort(ages)[::-1]\n",
    "ages = y\n",
    "print(ages,names)\n"
   ]
  },
  {
   "attachments": {},
   "cell_type": "markdown",
   "id": "af47d8d6-075c-43fa-b27f-e804f834d475",
   "metadata": {},
   "source": [
    "<hr>\n",
    "\n",
    "<img src=\"https://i.imgur.com/jbHKBPR.png![image.png](attachment:49d72e8d-c091-43ab-8ecd-db9a79858664.png)![image.png](attachment:ae9cf8e0-d2c1-4396-8bfc-0d7016cff2ad.png)![image.png](attachment:8f96c12e-5e2a-432b-b706-429bbafdeccc.png)![image.png](attachment:bd54d228-298e-4fdd-8464-49002837e5e5.png)\"/>"
   ]
  },
  {
   "cell_type": "code",
   "execution_count": 4,
   "id": "ab02fa69-e4ec-4025-8fcb-7a59db6c622c",
   "metadata": {},
   "outputs": [],
   "source": [
    "import calendar"
   ]
  },
  {
   "cell_type": "code",
   "execution_count": 5,
   "id": "bd565605-22a1-497f-9925-773a9b7c7140",
   "metadata": {},
   "outputs": [],
   "source": [
    "month_names = list(calendar.month_name)[1:]\n",
    "temperature_data = np.array([40, 38, 28, 20, 15, 28, 35, 40, 48, 45, 40, 43])\n",
    "threshold = 35"
   ]
  },
  {
   "cell_type": "code",
   "execution_count": 6,
   "id": "fc2062d3-4cd4-4797-a472-15422b444b47",
   "metadata": {},
   "outputs": [
    {
     "name": "stdout",
     "output_type": "stream",
     "text": [
      "avarage =  35.0\n",
      "the temperature above the threshold =  (array([ 0,  1,  7,  8,  9, 10, 11], dtype=int64),)\n",
      "the highest temperature =  48 the lowest temperature =  15\n",
      "the temperature range =  33\n"
     ]
    }
   ],
   "source": [
    "temperature_data.mean()\n",
    "z = np.where(temperature_data > threshold)\n",
    "print (\"avarage = \",temperature_data.mean())\n",
    "print(\"the temperature above the threshold = \",z)\n",
    "print(\"the highest temperature = \",temperature_data.max(),\"the lowest temperature = \",temperature_data.min())\n",
    "print(\"the temperature range = \",temperature_data.max()-temperature_data.min())"
   ]
  },
  {
   "cell_type": "markdown",
   "id": "33f65a00-76f4-4ffc-8e28-1f2c8c094a86",
   "metadata": {},
   "source": [
    "<hr>\n",
    "\n",
    "<img src=\"https://i.imgur.com/eiXHG9y.png\"/>"
   ]
  },
  {
   "cell_type": "code",
   "execution_count": 7,
   "id": "a642594f-b33d-4b5d-a2d4-44b13f6f45d0",
   "metadata": {},
   "outputs": [],
   "source": [
    "students = np.array(['Mohammed', 'Lama', 'Norah', 'Ahmed', 'Fahad'])\n",
    "math_scores = np.array([80, 92, 75, 68, 88])\n",
    "ML_scores = np.array([85, 78, 92, 64, 90])\n",
    "DS_scores = np.array([70, 88, 75, 82, 78])"
   ]
  },
  {
   "cell_type": "markdown",
   "id": "138875cf",
   "metadata": {},
   "source": [
    "<h3>here is the requested calculation"
   ]
  },
  {
   "cell_type": "code",
   "execution_count": 8,
   "id": "5a6cb79c-3359-4505-8a26-59c4dab1977f",
   "metadata": {},
   "outputs": [
    {
     "name": "stdout",
     "output_type": "stream",
     "text": [
      "math average  80.6\n",
      "math highest  92\n",
      "math lowest  68\n",
      "math standered deviation  8.662563131083086\n",
      "machine learning average  81.8\n",
      "math highest  92\n",
      "math lowest  64\n",
      "math standered deviation  10.127191120937729\n",
      "data structure average  78.6\n",
      "math highest  88\n",
      "math lowest  70\n",
      "math standered deviation  6.118823416311342\n"
     ]
    }
   ],
   "source": [
    "print(\"math average \",math_scores.mean())\n",
    "print(\"math highest \",math_scores.max())\n",
    "print(\"math lowest \",math_scores.min())\n",
    "print(\"math standered deviation \",math_scores.std())\n",
    "print(\"machine learning average \",ML_scores.mean())\n",
    "print(\"math highest \",ML_scores.max())\n",
    "print(\"math lowest \",ML_scores.min())\n",
    "print(\"math standered deviation \",ML_scores.std())\n",
    "print(\"data structure average \",DS_scores.mean())\n",
    "print(\"math highest \",DS_scores.max())\n",
    "print(\"math lowest \",DS_scores.min())\n",
    "print(\"math standered deviation \",DS_scores.std())"
   ]
  },
  {
   "cell_type": "markdown",
   "id": "d2d7bb0a",
   "metadata": {},
   "source": [
    "<h3>here is the highest and lowest overall scores"
   ]
  },
  {
   "cell_type": "code",
   "execution_count": 9,
   "id": "7b97aa64",
   "metadata": {},
   "outputs": [
    {
     "name": "stdout",
     "output_type": "stream",
     "text": [
      "the highest student is : Lama with 258 scores.\n",
      "the lowest student is : Ahmed with 214 scores.\n"
     ]
    }
   ],
   "source": [
    "total = np.array(5,)\n",
    "total = math_scores+ML_scores+DS_scores\n",
    "print(\"the highest student is :\",students[total.argmax()],\"with\",total.max(),\"scores.\")\n",
    "print(\"the lowest student is :\",students[total.argmin()],\"with\",total.min(),\"scores.\")"
   ]
  },
  {
   "cell_type": "markdown",
   "id": "5a1e8641",
   "metadata": {},
   "source": [
    "<h3>here is the failed students\n",
    "<h5>(Fortunately there is None)"
   ]
  },
  {
   "cell_type": "code",
   "execution_count": 10,
   "id": "9773a380",
   "metadata": {},
   "outputs": [
    {
     "name": "stdout",
     "output_type": "stream",
     "text": [
      "[]\n",
      "[]\n",
      "[]\n"
     ]
    }
   ],
   "source": [
    "print(students[np.where(math_scores < 40)])\n",
    "print(students[np.where(ML_scores < 40)])\n",
    "print(students[np.where(DS_scores < 40)])"
   ]
  },
  {
   "cell_type": "markdown",
   "id": "e88ddb78",
   "metadata": {},
   "source": [
    "<h3>here is normalized scores with there new mean and standered deviation\n",
    "<h5>(the new mean is almost 0 and the new standered deviation almost 1)"
   ]
  },
  {
   "cell_type": "code",
   "execution_count": 11,
   "id": "a4a89e1f",
   "metadata": {},
   "outputs": [
    {
     "name": "stdout",
     "output_type": "stream",
     "text": [
      "the new math array :  [-0.06926356  1.31600773 -0.64645994 -1.45453485  0.85425063]\n",
      "\n",
      "the new mean standered deviation = 5.995204332975846e-16 \n",
      "the new standered deviation = 0.9999999999999999\n",
      "\n",
      "\n",
      "the new machine learning array :  [ 0.315981   -0.37522744  1.00718944 -1.75764432  0.80970132]\n",
      "\n",
      "the new mean standered deviation = 2.6645352591003756e-16 \n",
      "the new standered deviation = 1.0\n",
      "\n",
      "\n",
      "the new data structure array :  [-1.40549897  1.53624306 -0.58834841  0.55566238 -0.09805807]\n",
      "\n",
      "the new mean standered deviation = 9.076073226310656e-16 \n",
      "the new standered deviation = 1.0\n"
     ]
    }
   ],
   "source": [
    "math_scores1 = (math_scores - math_scores.mean()) / math_scores.std()\n",
    "print(\"the new math array : \",math_scores1)\n",
    "print(\"\\nthe new mean standered deviation =\",math_scores1.mean(),\"\\nthe new standered deviation =\",math_scores1.std())\n",
    "ML_scores1 = (ML_scores - ML_scores.mean()) / ML_scores.std()\n",
    "print(\"\\n\\nthe new machine learning array : \",ML_scores1)\n",
    "print(\"\\nthe new mean standered deviation =\",ML_scores1.mean(),\"\\nthe new standered deviation =\",ML_scores1.std())\n",
    "DS_scores1 = (DS_scores - DS_scores.mean()) / DS_scores.std()\n",
    "print(\"\\n\\nthe new data structure array : \",DS_scores1)\n",
    "print(\"\\nthe new mean standered deviation =\",DS_scores1.mean(),\"\\nthe new standered deviation =\", DS_scores1.std())"
   ]
  },
  {
   "cell_type": "markdown",
   "id": "bbaf40e9-20a6-425a-aa35-548e6e8ab55e",
   "metadata": {},
   "source": [
    "<hr>\n",
    "\n",
    "### <center> Great job! Keep exploring and learning. Your progress is remarkable. \n",
    "\n",
    "<hr>"
   ]
  },
  {
   "cell_type": "markdown",
   "id": "b1499ad9-75eb-4158-9b03-b2af8eebd772",
   "metadata": {},
   "source": [
    "<hr>"
   ]
  }
 ],
 "metadata": {
  "kernelspec": {
   "display_name": "Python 3 (ipykernel)",
   "language": "python",
   "name": "python3"
  },
  "language_info": {
   "codemirror_mode": {
    "name": "ipython",
    "version": 3
   },
   "file_extension": ".py",
   "mimetype": "text/x-python",
   "name": "python",
   "nbconvert_exporter": "python",
   "pygments_lexer": "ipython3",
   "version": "3.9.12"
  }
 },
 "nbformat": 4,
 "nbformat_minor": 5
}
